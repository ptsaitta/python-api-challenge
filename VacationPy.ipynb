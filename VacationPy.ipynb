{
 "cells": [
  {
   "cell_type": "markdown",
   "metadata": {},
   "source": [
    "# VacationPy\n",
    "----\n",
    "\n",
    "#### Note\n",
    "* Keep an eye on your API usage. Use https://developers.google.com/maps/reporting/gmp-reporting as reference for how to monitor your usage and billing.\n",
    "\n",
    "* Instructions have been included for each segment. You do not have to follow them exactly, but they are included to help you think through the steps."
   ]
  },
  {
   "cell_type": "code",
   "execution_count": 13,
   "metadata": {},
   "outputs": [],
   "source": [
    "# Dependencies and Setup\n",
    "\n",
    "\n",
    "import matplotlib.pyplot as plt\n",
    "import pandas as pd\n",
    "import numpy as np\n",
    "import requests\n",
    "import gmaps\n",
    "import os\n",
    "\n",
    "# Import API key\n",
    "from api_keys import g_key"
   ]
  },
  {
   "cell_type": "code",
   "execution_count": 14,
   "metadata": {},
   "outputs": [
    {
     "name": "stderr",
     "output_type": "stream",
     "text": [
      "Enabling notebook extension jupyter-js-widgets/extension...\n",
      "      - Validating: ok\n",
      "Enabling notebook extension jupyter-gmaps/extension...\n",
      "      - Validating: ok\n"
     ]
    }
   ],
   "source": [
    "!jupyter nbextension enable --py --sys-prefix widgetsnbextension\n",
    "!jupyter nbextension enable --py --sys-prefix gmaps"
   ]
  },
  {
   "cell_type": "markdown",
   "metadata": {},
   "source": [
    "### Store Part I results into DataFrame\n",
    "* Load the csv exported in Part I to a DataFrame"
   ]
  },
  {
   "cell_type": "code",
   "execution_count": 15,
   "metadata": {},
   "outputs": [
    {
     "data": {
      "text/html": [
       "<div>\n",
       "<style scoped>\n",
       "    .dataframe tbody tr th:only-of-type {\n",
       "        vertical-align: middle;\n",
       "    }\n",
       "\n",
       "    .dataframe tbody tr th {\n",
       "        vertical-align: top;\n",
       "    }\n",
       "\n",
       "    .dataframe thead th {\n",
       "        text-align: right;\n",
       "    }\n",
       "</style>\n",
       "<table border=\"1\" class=\"dataframe\">\n",
       "  <thead>\n",
       "    <tr style=\"text-align: right;\">\n",
       "      <th></th>\n",
       "      <th>Unnamed: 0</th>\n",
       "      <th>City</th>\n",
       "      <th>Latitude</th>\n",
       "      <th>Longitude</th>\n",
       "      <th>Max Temperature</th>\n",
       "      <th>Humidity</th>\n",
       "      <th>Cloudiness</th>\n",
       "      <th>Wind Speed</th>\n",
       "      <th>Date</th>\n",
       "      <th>Country</th>\n",
       "    </tr>\n",
       "  </thead>\n",
       "  <tbody>\n",
       "    <tr>\n",
       "      <th>0</th>\n",
       "      <td>0</td>\n",
       "      <td>busselton</td>\n",
       "      <td>-33.65</td>\n",
       "      <td>115.33</td>\n",
       "      <td>70.00</td>\n",
       "      <td>64</td>\n",
       "      <td>24</td>\n",
       "      <td>8.05</td>\n",
       "      <td>1607621883</td>\n",
       "      <td>AU</td>\n",
       "    </tr>\n",
       "    <tr>\n",
       "      <th>1</th>\n",
       "      <td>1</td>\n",
       "      <td>tuktoyaktuk</td>\n",
       "      <td>69.45</td>\n",
       "      <td>-133.04</td>\n",
       "      <td>-11.20</td>\n",
       "      <td>83</td>\n",
       "      <td>90</td>\n",
       "      <td>12.75</td>\n",
       "      <td>1607621883</td>\n",
       "      <td>CA</td>\n",
       "    </tr>\n",
       "    <tr>\n",
       "      <th>2</th>\n",
       "      <td>2</td>\n",
       "      <td>ushuaia</td>\n",
       "      <td>-54.80</td>\n",
       "      <td>-68.30</td>\n",
       "      <td>62.60</td>\n",
       "      <td>39</td>\n",
       "      <td>20</td>\n",
       "      <td>10.29</td>\n",
       "      <td>1607621883</td>\n",
       "      <td>AR</td>\n",
       "    </tr>\n",
       "    <tr>\n",
       "      <th>3</th>\n",
       "      <td>3</td>\n",
       "      <td>amapa</td>\n",
       "      <td>1.00</td>\n",
       "      <td>-52.00</td>\n",
       "      <td>92.57</td>\n",
       "      <td>42</td>\n",
       "      <td>28</td>\n",
       "      <td>7.02</td>\n",
       "      <td>1607621883</td>\n",
       "      <td>BR</td>\n",
       "    </tr>\n",
       "    <tr>\n",
       "      <th>4</th>\n",
       "      <td>4</td>\n",
       "      <td>rikitea</td>\n",
       "      <td>-23.12</td>\n",
       "      <td>-134.97</td>\n",
       "      <td>76.66</td>\n",
       "      <td>80</td>\n",
       "      <td>49</td>\n",
       "      <td>13.87</td>\n",
       "      <td>1607621883</td>\n",
       "      <td>PF</td>\n",
       "    </tr>\n",
       "    <tr>\n",
       "      <th>5</th>\n",
       "      <td>5</td>\n",
       "      <td>prokhorovka</td>\n",
       "      <td>51.04</td>\n",
       "      <td>36.73</td>\n",
       "      <td>21.20</td>\n",
       "      <td>67</td>\n",
       "      <td>0</td>\n",
       "      <td>13.42</td>\n",
       "      <td>1607621883</td>\n",
       "      <td>RU</td>\n",
       "    </tr>\n",
       "    <tr>\n",
       "      <th>6</th>\n",
       "      <td>6</td>\n",
       "      <td>castro</td>\n",
       "      <td>-24.79</td>\n",
       "      <td>-50.01</td>\n",
       "      <td>74.03</td>\n",
       "      <td>66</td>\n",
       "      <td>61</td>\n",
       "      <td>3.29</td>\n",
       "      <td>1607621884</td>\n",
       "      <td>BR</td>\n",
       "    </tr>\n",
       "    <tr>\n",
       "      <th>7</th>\n",
       "      <td>7</td>\n",
       "      <td>albany</td>\n",
       "      <td>42.60</td>\n",
       "      <td>-73.97</td>\n",
       "      <td>42.01</td>\n",
       "      <td>55</td>\n",
       "      <td>49</td>\n",
       "      <td>4.00</td>\n",
       "      <td>1607621849</td>\n",
       "      <td>US</td>\n",
       "    </tr>\n",
       "    <tr>\n",
       "      <th>8</th>\n",
       "      <td>8</td>\n",
       "      <td>east london</td>\n",
       "      <td>-33.02</td>\n",
       "      <td>27.91</td>\n",
       "      <td>69.80</td>\n",
       "      <td>83</td>\n",
       "      <td>20</td>\n",
       "      <td>9.17</td>\n",
       "      <td>1607621884</td>\n",
       "      <td>ZA</td>\n",
       "    </tr>\n",
       "    <tr>\n",
       "      <th>9</th>\n",
       "      <td>9</td>\n",
       "      <td>fairbanks</td>\n",
       "      <td>64.84</td>\n",
       "      <td>-147.72</td>\n",
       "      <td>1.99</td>\n",
       "      <td>84</td>\n",
       "      <td>90</td>\n",
       "      <td>1.12</td>\n",
       "      <td>1607621672</td>\n",
       "      <td>US</td>\n",
       "    </tr>\n",
       "  </tbody>\n",
       "</table>\n",
       "</div>"
      ],
      "text/plain": [
       "   Unnamed: 0         City  Latitude  Longitude  Max Temperature  Humidity  \\\n",
       "0           0    busselton    -33.65     115.33            70.00        64   \n",
       "1           1  tuktoyaktuk     69.45    -133.04           -11.20        83   \n",
       "2           2      ushuaia    -54.80     -68.30            62.60        39   \n",
       "3           3        amapa      1.00     -52.00            92.57        42   \n",
       "4           4      rikitea    -23.12    -134.97            76.66        80   \n",
       "5           5  prokhorovka     51.04      36.73            21.20        67   \n",
       "6           6       castro    -24.79     -50.01            74.03        66   \n",
       "7           7       albany     42.60     -73.97            42.01        55   \n",
       "8           8  east london    -33.02      27.91            69.80        83   \n",
       "9           9    fairbanks     64.84    -147.72             1.99        84   \n",
       "\n",
       "   Cloudiness  Wind Speed        Date Country  \n",
       "0          24        8.05  1607621883      AU  \n",
       "1          90       12.75  1607621883      CA  \n",
       "2          20       10.29  1607621883      AR  \n",
       "3          28        7.02  1607621883      BR  \n",
       "4          49       13.87  1607621883      PF  \n",
       "5           0       13.42  1607621883      RU  \n",
       "6          61        3.29  1607621884      BR  \n",
       "7          49        4.00  1607621849      US  \n",
       "8          20        9.17  1607621884      ZA  \n",
       "9          90        1.12  1607621672      US  "
      ]
     },
     "execution_count": 15,
     "metadata": {},
     "output_type": "execute_result"
    }
   ],
   "source": [
    "city_data_df = pd.read_csv(\"output_data/cities.csv\")\n",
    "city_data_df.head(10)\n"
   ]
  },
  {
   "cell_type": "markdown",
   "metadata": {},
   "source": [
    "### Humidity Heatmap\n",
    "* Configure gmaps.\n",
    "* Use the Lat and Lng as locations and Humidity as the weight.\n",
    "* Add Heatmap layer to map."
   ]
  },
  {
   "cell_type": "code",
   "execution_count": 3,
   "metadata": {},
   "outputs": [
    {
     "name": "stderr",
     "output_type": "stream",
     "text": [
      "Enabling notebook extension jupyter-gmaps/extension...\n",
      "      - Validating: ok\n",
      "Enabling notebook extension jupyter-js-widgets/extension...\n",
      "      - Validating: ok\n"
     ]
    }
   ],
   "source": [
    "#configure gmaps first\n",
    "\n",
    "gmaps.configure(api_key = g_key)\n",
    "\n",
    "!jupyter nbextension enable --py gmaps\n",
    "!jupyter nbextension enable --py widgetsnbextension"
   ]
  },
  {
   "cell_type": "code",
   "execution_count": 26,
   "metadata": {},
   "outputs": [
    {
     "data": {
      "application/vnd.jupyter.widget-view+json": {
       "model_id": "dcc51c94ac36422a929c832af5b5e8e1",
       "version_major": 2,
       "version_minor": 0
      },
      "text/plain": [
       "Figure(layout=FigureLayout(height='420px'))"
      ]
     },
     "metadata": {},
     "output_type": "display_data"
    }
   ],
   "source": [
    "locations = city_data_df[[\"Latitude\",\"Longitude\"]]\n",
    "humidity = city_data_df[\"Humidity\"]\n",
    "\n",
    "#create base map and \n",
    "fig = gmaps.figure(zoom_level = 2, center = (0,0))\n",
    "\n",
    "#add heat layer\n",
    "humidity_heatmap_layer = gmaps.heatmap_layer(locations, weights = humidity, max_intensity=100, dissipating=False, point_radius = 4)\n",
    "\n",
    "fig.add_layer(humidity_heatmap_layer)\n",
    "\n",
    "fig"
   ]
  },
  {
   "cell_type": "markdown",
   "metadata": {},
   "source": [
    "### Create new DataFrame fitting weather criteria\n",
    "* Narrow down the cities to fit weather conditions.\n",
    "* Drop any rows will null values."
   ]
  },
  {
   "cell_type": "code",
   "execution_count": null,
   "metadata": {},
   "outputs": [],
   "source": []
  },
  {
   "cell_type": "markdown",
   "metadata": {},
   "source": [
    "### Hotel Map\n",
    "* Store into variable named `hotel_df`.\n",
    "* Add a \"Hotel Name\" column to the DataFrame.\n",
    "* Set parameters to search for hotels with 5000 meters.\n",
    "* Hit the Google Places API for each city's coordinates.\n",
    "* Store the first Hotel result into the DataFrame.\n",
    "* Plot markers on top of the heatmap."
   ]
  },
  {
   "cell_type": "code",
   "execution_count": null,
   "metadata": {},
   "outputs": [],
   "source": []
  },
  {
   "cell_type": "code",
   "execution_count": null,
   "metadata": {},
   "outputs": [],
   "source": []
  },
  {
   "cell_type": "code",
   "execution_count": null,
   "metadata": {},
   "outputs": [],
   "source": [
    "# NOTE: Do not change any of the code in this cell\n",
    "\n",
    "# Using the template add the hotel marks to the heatmap\n",
    "info_box_template = \"\"\"\n",
    "<dl>\n",
    "<dt>Name</dt><dd>{Hotel Name}</dd>\n",
    "<dt>City</dt><dd>{City}</dd>\n",
    "<dt>Country</dt><dd>{Country}</dd>\n",
    "</dl>\n",
    "\"\"\"\n",
    "# Store the DataFrame Row\n",
    "# NOTE: be sure to update with your DataFrame name\n",
    "hotel_info = [info_box_template.format(**row) for index, row in hotel_df.iterrows()]\n",
    "locations = hotel_df[[\"Lat\", \"Lng\"]]"
   ]
  },
  {
   "cell_type": "code",
   "execution_count": null,
   "metadata": {},
   "outputs": [],
   "source": [
    "# Add marker layer ontop of heat map\n",
    "\n",
    "\n",
    "# Display figure\n"
   ]
  },
  {
   "cell_type": "code",
   "execution_count": null,
   "metadata": {},
   "outputs": [],
   "source": []
  }
 ],
 "metadata": {
  "kernelspec": {
   "display_name": "Python 3",
   "language": "python",
   "name": "python3"
  },
  "language_info": {
   "codemirror_mode": {
    "name": "ipython",
    "version": 3
   },
   "file_extension": ".py",
   "mimetype": "text/x-python",
   "name": "python",
   "nbconvert_exporter": "python",
   "pygments_lexer": "ipython3",
   "version": "3.8.3"
  },
  "latex_envs": {
   "LaTeX_envs_menu_present": true,
   "autoclose": false,
   "autocomplete": true,
   "bibliofile": "biblio.bib",
   "cite_by": "apalike",
   "current_citInitial": 1,
   "eqLabelWithNumbers": true,
   "eqNumInitial": 1,
   "hotkeys": {
    "equation": "Ctrl-E",
    "itemize": "Ctrl-I"
   },
   "labels_anchors": false,
   "latex_user_defs": false,
   "report_style_numbering": false,
   "user_envs_cfg": false
  }
 },
 "nbformat": 4,
 "nbformat_minor": 4
}
